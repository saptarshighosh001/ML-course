{
  "nbformat": 4,
  "nbformat_minor": 0,
  "metadata": {
    "colab": {
      "provenance": []
    },
    "kernelspec": {
      "name": "python3",
      "display_name": "Python 3"
    },
    "language_info": {
      "name": "python"
    }
  },
  "cells": [
    {
      "cell_type": "markdown",
      "source": [
        "**Grid Search**\n",
        "\n",
        "The majority of machine learning models contain parameters that can be adjusted to vary how the model learns. For instance, the logistic regression model, from sklearn, has a parameter C that controls regularization,which affects the complexity of the model."
      ],
      "metadata": {
        "id": "FQigDtHBI42Z"
      }
    },
    {
      "cell_type": "code",
      "execution_count": 1,
      "metadata": {
        "id": "9Dd1sVCJE6dV"
      },
      "outputs": [],
      "source": [
        "from sklearn import datasets\n",
        "iris = datasets.load_iris()"
      ]
    },
    {
      "cell_type": "code",
      "source": [
        "X = iris['data']\n",
        "y = iris['target']"
      ],
      "metadata": {
        "id": "Hj2vsVlfFsAO"
      },
      "execution_count": 2,
      "outputs": []
    },
    {
      "cell_type": "code",
      "source": [
        "from sklearn.linear_model import LogisticRegression"
      ],
      "metadata": {
        "id": "9-h3SNBMG2Ku"
      },
      "execution_count": 3,
      "outputs": []
    },
    {
      "cell_type": "code",
      "source": [
        "logit = LogisticRegression(max_iter = 10000)"
      ],
      "metadata": {
        "id": "h20_7sJmG4JW"
      },
      "execution_count": 4,
      "outputs": []
    },
    {
      "cell_type": "code",
      "source": [
        "print(logit.fit(X,y))"
      ],
      "metadata": {
        "colab": {
          "base_uri": "https://localhost:8080/"
        },
        "id": "7D0V8uTaHAVG",
        "outputId": "6ba1c000-8f51-4a8d-cd7c-f84db62f3f78"
      },
      "execution_count": 5,
      "outputs": [
        {
          "output_type": "stream",
          "name": "stdout",
          "text": [
            "LogisticRegression(max_iter=10000)\n"
          ]
        }
      ]
    },
    {
      "cell_type": "code",
      "source": [
        "print(logit.score(X,y))"
      ],
      "metadata": {
        "colab": {
          "base_uri": "https://localhost:8080/"
        },
        "id": "7pkha0W-HIUX",
        "outputId": "30dec379-0a3f-477c-9638-97000a529216"
      },
      "execution_count": 6,
      "outputs": [
        {
          "output_type": "stream",
          "name": "stdout",
          "text": [
            "0.9733333333333334\n"
          ]
        }
      ]
    },
    {
      "cell_type": "markdown",
      "source": [
        "By making the default setting of C = 1, we achieved a score of 0.973.\n",
        "\n",
        "Now with the help of different values of C, we have to see if we can achieve any better by implementing a grid search with difference values of 0.973."
      ],
      "metadata": {
        "id": "SxSpmXB_HU4h"
      }
    },
    {
      "cell_type": "markdown",
      "source": [
        "\n",
        "Knowing which values to set for the searched parameters will take a combination of domain knowledge and practice. Since the default value for C is 1, we will set a range of values surrounding it."
      ],
      "metadata": {
        "id": "Gpef_bRhPDPM"
      }
    },
    {
      "cell_type": "code",
      "source": [
        "C = [0.25, 0.5, 0.75, 1, 1.25, 1.5, 1.75, 2]"
      ],
      "metadata": {
        "id": "UVqGtDSDPln-"
      },
      "execution_count": 7,
      "outputs": []
    },
    {
      "cell_type": "markdown",
      "source": [
        "First we will create an empty list to store the score within."
      ],
      "metadata": {
        "id": "LkeiZPZeQA4G"
      }
    },
    {
      "cell_type": "code",
      "source": [
        "scores = []"
      ],
      "metadata": {
        "id": "Il3zhhuxQFFG"
      },
      "execution_count": 8,
      "outputs": []
    },
    {
      "cell_type": "code",
      "source": [
        "for choice in C:\n",
        "  logit.set_params(C=choice)\n",
        "  logit.fit(X, y)\n",
        "  scores.append(logit.score(X, y))"
      ],
      "metadata": {
        "id": "KdZldLWtQWvd"
      },
      "execution_count": 9,
      "outputs": []
    },
    {
      "cell_type": "code",
      "source": [
        "print(scores)"
      ],
      "metadata": {
        "colab": {
          "base_uri": "https://localhost:8080/"
        },
        "id": "HKvUh8w7Qp2t",
        "outputId": "5080b837-b4cb-401e-bd51-e2c263412e43"
      },
      "execution_count": 10,
      "outputs": [
        {
          "output_type": "stream",
          "name": "stdout",
          "text": [
            "[0.9666666666666667, 0.9666666666666667, 0.9733333333333334, 0.9733333333333334, 0.98, 0.98, 0.9866666666666667, 0.9866666666666667]\n"
          ]
        }
      ]
    },
    {
      "cell_type": "markdown",
      "source": [
        "We can see that the lower values of C performed poorer than the base parameter of 1. However, as we increased the value of C to 1.75 the model experienced increased accuracy.\n",
        "\n",
        "It seems that increasing C beyond this amount does not help to increase the model accuracy."
      ],
      "metadata": {
        "id": "Z5mKJHPlRclv"
      }
    }
  ]
}