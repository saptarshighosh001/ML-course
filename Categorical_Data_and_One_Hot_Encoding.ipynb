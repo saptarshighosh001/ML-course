{
  "nbformat": 4,
  "nbformat_minor": 0,
  "metadata": {
    "colab": {
      "provenance": []
    },
    "kernelspec": {
      "name": "python3",
      "display_name": "Python 3"
    },
    "language_info": {
      "name": "python"
    }
  },
  "cells": [
    {
      "cell_type": "markdown",
      "source": [
        " Here, we shall predict the CO2 emitted based on the volume of the engine, the weight of the car, the car brand and model."
      ],
      "metadata": {
        "id": "Ci4AwOeaQa1V"
      }
    },
    {
      "cell_type": "code",
      "source": [
        "import pandas as pd"
      ],
      "metadata": {
        "id": "HkgyNrN9N6l8"
      },
      "execution_count": 1,
      "outputs": []
    },
    {
      "cell_type": "code",
      "execution_count": 2,
      "metadata": {
        "colab": {
          "base_uri": "https://localhost:8080/",
          "height": 73
        },
        "id": "i6hTZkznNgBk",
        "outputId": "acf1fb34-ea9c-4e13-91bc-3ece81bf28a0"
      },
      "outputs": [
        {
          "output_type": "display_data",
          "data": {
            "text/plain": [
              "<IPython.core.display.HTML object>"
            ],
            "text/html": [
              "\n",
              "     <input type=\"file\" id=\"files-c4c55123-8e09-4dbb-a7d6-9fca4f6256ad\" name=\"files[]\" multiple disabled\n",
              "        style=\"border:none\" />\n",
              "     <output id=\"result-c4c55123-8e09-4dbb-a7d6-9fca4f6256ad\">\n",
              "      Upload widget is only available when the cell has been executed in the\n",
              "      current browser session. Please rerun this cell to enable.\n",
              "      </output>\n",
              "      <script>// Copyright 2017 Google LLC\n",
              "//\n",
              "// Licensed under the Apache License, Version 2.0 (the \"License\");\n",
              "// you may not use this file except in compliance with the License.\n",
              "// You may obtain a copy of the License at\n",
              "//\n",
              "//      http://www.apache.org/licenses/LICENSE-2.0\n",
              "//\n",
              "// Unless required by applicable law or agreed to in writing, software\n",
              "// distributed under the License is distributed on an \"AS IS\" BASIS,\n",
              "// WITHOUT WARRANTIES OR CONDITIONS OF ANY KIND, either express or implied.\n",
              "// See the License for the specific language governing permissions and\n",
              "// limitations under the License.\n",
              "\n",
              "/**\n",
              " * @fileoverview Helpers for google.colab Python module.\n",
              " */\n",
              "(function(scope) {\n",
              "function span(text, styleAttributes = {}) {\n",
              "  const element = document.createElement('span');\n",
              "  element.textContent = text;\n",
              "  for (const key of Object.keys(styleAttributes)) {\n",
              "    element.style[key] = styleAttributes[key];\n",
              "  }\n",
              "  return element;\n",
              "}\n",
              "\n",
              "// Max number of bytes which will be uploaded at a time.\n",
              "const MAX_PAYLOAD_SIZE = 100 * 1024;\n",
              "\n",
              "function _uploadFiles(inputId, outputId) {\n",
              "  const steps = uploadFilesStep(inputId, outputId);\n",
              "  const outputElement = document.getElementById(outputId);\n",
              "  // Cache steps on the outputElement to make it available for the next call\n",
              "  // to uploadFilesContinue from Python.\n",
              "  outputElement.steps = steps;\n",
              "\n",
              "  return _uploadFilesContinue(outputId);\n",
              "}\n",
              "\n",
              "// This is roughly an async generator (not supported in the browser yet),\n",
              "// where there are multiple asynchronous steps and the Python side is going\n",
              "// to poll for completion of each step.\n",
              "// This uses a Promise to block the python side on completion of each step,\n",
              "// then passes the result of the previous step as the input to the next step.\n",
              "function _uploadFilesContinue(outputId) {\n",
              "  const outputElement = document.getElementById(outputId);\n",
              "  const steps = outputElement.steps;\n",
              "\n",
              "  const next = steps.next(outputElement.lastPromiseValue);\n",
              "  return Promise.resolve(next.value.promise).then((value) => {\n",
              "    // Cache the last promise value to make it available to the next\n",
              "    // step of the generator.\n",
              "    outputElement.lastPromiseValue = value;\n",
              "    return next.value.response;\n",
              "  });\n",
              "}\n",
              "\n",
              "/**\n",
              " * Generator function which is called between each async step of the upload\n",
              " * process.\n",
              " * @param {string} inputId Element ID of the input file picker element.\n",
              " * @param {string} outputId Element ID of the output display.\n",
              " * @return {!Iterable<!Object>} Iterable of next steps.\n",
              " */\n",
              "function* uploadFilesStep(inputId, outputId) {\n",
              "  const inputElement = document.getElementById(inputId);\n",
              "  inputElement.disabled = false;\n",
              "\n",
              "  const outputElement = document.getElementById(outputId);\n",
              "  outputElement.innerHTML = '';\n",
              "\n",
              "  const pickedPromise = new Promise((resolve) => {\n",
              "    inputElement.addEventListener('change', (e) => {\n",
              "      resolve(e.target.files);\n",
              "    });\n",
              "  });\n",
              "\n",
              "  const cancel = document.createElement('button');\n",
              "  inputElement.parentElement.appendChild(cancel);\n",
              "  cancel.textContent = 'Cancel upload';\n",
              "  const cancelPromise = new Promise((resolve) => {\n",
              "    cancel.onclick = () => {\n",
              "      resolve(null);\n",
              "    };\n",
              "  });\n",
              "\n",
              "  // Wait for the user to pick the files.\n",
              "  const files = yield {\n",
              "    promise: Promise.race([pickedPromise, cancelPromise]),\n",
              "    response: {\n",
              "      action: 'starting',\n",
              "    }\n",
              "  };\n",
              "\n",
              "  cancel.remove();\n",
              "\n",
              "  // Disable the input element since further picks are not allowed.\n",
              "  inputElement.disabled = true;\n",
              "\n",
              "  if (!files) {\n",
              "    return {\n",
              "      response: {\n",
              "        action: 'complete',\n",
              "      }\n",
              "    };\n",
              "  }\n",
              "\n",
              "  for (const file of files) {\n",
              "    const li = document.createElement('li');\n",
              "    li.append(span(file.name, {fontWeight: 'bold'}));\n",
              "    li.append(span(\n",
              "        `(${file.type || 'n/a'}) - ${file.size} bytes, ` +\n",
              "        `last modified: ${\n",
              "            file.lastModifiedDate ? file.lastModifiedDate.toLocaleDateString() :\n",
              "                                    'n/a'} - `));\n",
              "    const percent = span('0% done');\n",
              "    li.appendChild(percent);\n",
              "\n",
              "    outputElement.appendChild(li);\n",
              "\n",
              "    const fileDataPromise = new Promise((resolve) => {\n",
              "      const reader = new FileReader();\n",
              "      reader.onload = (e) => {\n",
              "        resolve(e.target.result);\n",
              "      };\n",
              "      reader.readAsArrayBuffer(file);\n",
              "    });\n",
              "    // Wait for the data to be ready.\n",
              "    let fileData = yield {\n",
              "      promise: fileDataPromise,\n",
              "      response: {\n",
              "        action: 'continue',\n",
              "      }\n",
              "    };\n",
              "\n",
              "    // Use a chunked sending to avoid message size limits. See b/62115660.\n",
              "    let position = 0;\n",
              "    do {\n",
              "      const length = Math.min(fileData.byteLength - position, MAX_PAYLOAD_SIZE);\n",
              "      const chunk = new Uint8Array(fileData, position, length);\n",
              "      position += length;\n",
              "\n",
              "      const base64 = btoa(String.fromCharCode.apply(null, chunk));\n",
              "      yield {\n",
              "        response: {\n",
              "          action: 'append',\n",
              "          file: file.name,\n",
              "          data: base64,\n",
              "        },\n",
              "      };\n",
              "\n",
              "      let percentDone = fileData.byteLength === 0 ?\n",
              "          100 :\n",
              "          Math.round((position / fileData.byteLength) * 100);\n",
              "      percent.textContent = `${percentDone}% done`;\n",
              "\n",
              "    } while (position < fileData.byteLength);\n",
              "  }\n",
              "\n",
              "  // All done.\n",
              "  yield {\n",
              "    response: {\n",
              "      action: 'complete',\n",
              "    }\n",
              "  };\n",
              "}\n",
              "\n",
              "scope.google = scope.google || {};\n",
              "scope.google.colab = scope.google.colab || {};\n",
              "scope.google.colab._files = {\n",
              "  _uploadFiles,\n",
              "  _uploadFilesContinue,\n",
              "};\n",
              "})(self);\n",
              "</script> "
            ]
          },
          "metadata": {}
        },
        {
          "output_type": "stream",
          "name": "stdout",
          "text": [
            "Saving data.csv to data.csv\n"
          ]
        }
      ],
      "source": [
        "from google.colab import files\n",
        "uploaded = files.upload()"
      ]
    },
    {
      "cell_type": "code",
      "source": [
        "cars = pd.read_csv('data.csv')\n",
        "print(cars.to_string())"
      ],
      "metadata": {
        "colab": {
          "base_uri": "https://localhost:8080/"
        },
        "id": "Z4WNjC_uOJeU",
        "outputId": "adbfc145-8a76-44af-e79a-cc5179950c0b"
      },
      "execution_count": 3,
      "outputs": [
        {
          "output_type": "stream",
          "name": "stdout",
          "text": [
            "           Car       Model  Volume  Weight  CO2\n",
            "0       Toyoty        Aygo    1000     790   99\n",
            "1   Mitsubishi  Space Star    1200    1160   95\n",
            "2        Skoda      Citigo    1000     929   95\n",
            "3         Fiat         500     900     865   90\n",
            "4         Mini      Cooper    1500    1140  105\n",
            "5           VW         Up!    1000     929  105\n",
            "6        Skoda       Fabia    1400    1109   90\n",
            "7     Mercedes     A-Class    1500    1365   92\n",
            "8         Ford      Fiesta    1500    1112   98\n",
            "9         Audi          A1    1600    1150   99\n",
            "10     Hyundai         I20    1100     980   99\n",
            "11      Suzuki       Swift    1300     990  101\n",
            "12        Ford      Fiesta    1000    1112   99\n",
            "13       Honda       Civic    1600    1252   94\n",
            "14      Hundai         I30    1600    1326   97\n",
            "15        Opel       Astra    1600    1330   97\n",
            "16         BMW           1    1600    1365   99\n",
            "17       Mazda           3    2200    1280  104\n",
            "18       Skoda       Rapid    1600    1119  104\n",
            "19        Ford       Focus    2000    1328  105\n",
            "20        Ford      Mondeo    1600    1584   94\n",
            "21        Opel    Insignia    2000    1428   99\n",
            "22    Mercedes     C-Class    2100    1365   99\n",
            "23       Skoda     Octavia    1600    1415   99\n",
            "24       Volvo         S60    2000    1415   99\n",
            "25    Mercedes         CLA    1500    1465  102\n",
            "26        Audi          A4    2000    1490  104\n",
            "27        Audi          A6    2000    1725  114\n",
            "28       Volvo         V70    1600    1523  109\n",
            "29         BMW           5    2000    1705  114\n",
            "30    Mercedes     E-Class    2100    1605  115\n",
            "31       Volvo        XC70    2000    1746  117\n",
            "32        Ford       B-Max    1600    1235  104\n",
            "33         BMW         216    1600    1390  108\n",
            "34        Opel      Zafira    1600    1405  109\n",
            "35    Mercedes         SLK    2500    1395  120\n"
          ]
        }
      ]
    },
    {
      "cell_type": "markdown",
      "source": [
        "**One Hot Encoding**\n",
        "\n",
        "We cannot make use of the Car or Model column in our data since they are not numeric. A linear relationship between a categorical variable, Car or Model, and a numeric variable, CO2, cannot be determined.\n",
        "\n",
        "To fix this issue, we must have a numeric representation of the categorical variable. One way to do this is to have a column representing each group in the category.\n",
        "\n",
        "For each column, the values will be 1 or 0 where 1 represents the inclusion of the group and 0 represents the exclusion. This transformation is called one hot encoding.\n",
        "\n",
        "You do not have to do this manually, the Python Pandas module has a function that called get_dummies() which does one hot encoding."
      ],
      "metadata": {
        "id": "t5uqBvFeOpNO"
      }
    },
    {
      "cell_type": "code",
      "source": [
        "import pandas as pd\n",
        "\n",
        "cars = pd.read_csv('data.csv')\n",
        "ohe_cars = pd.get_dummies(cars[['Car']])\n",
        "\n",
        "print(ohe_cars.to_string())"
      ],
      "metadata": {
        "colab": {
          "base_uri": "https://localhost:8080/"
        },
        "id": "qkDw_1itOxYl",
        "outputId": "2b085ba0-ba28-47d1-cbc6-186befa15dc2"
      },
      "execution_count": 4,
      "outputs": [
        {
          "output_type": "stream",
          "name": "stdout",
          "text": [
            "    Car_Audi  Car_BMW  Car_Fiat  Car_Ford  Car_Honda  Car_Hundai  Car_Hyundai  Car_Mazda  Car_Mercedes  Car_Mini  Car_Mitsubishi  Car_Opel  Car_Skoda  Car_Suzuki  Car_Toyoty  Car_VW  Car_Volvo\n",
            "0          0        0         0         0          0           0            0          0             0         0               0         0          0           0           1       0          0\n",
            "1          0        0         0         0          0           0            0          0             0         0               1         0          0           0           0       0          0\n",
            "2          0        0         0         0          0           0            0          0             0         0               0         0          1           0           0       0          0\n",
            "3          0        0         1         0          0           0            0          0             0         0               0         0          0           0           0       0          0\n",
            "4          0        0         0         0          0           0            0          0             0         1               0         0          0           0           0       0          0\n",
            "5          0        0         0         0          0           0            0          0             0         0               0         0          0           0           0       1          0\n",
            "6          0        0         0         0          0           0            0          0             0         0               0         0          1           0           0       0          0\n",
            "7          0        0         0         0          0           0            0          0             1         0               0         0          0           0           0       0          0\n",
            "8          0        0         0         1          0           0            0          0             0         0               0         0          0           0           0       0          0\n",
            "9          1        0         0         0          0           0            0          0             0         0               0         0          0           0           0       0          0\n",
            "10         0        0         0         0          0           0            1          0             0         0               0         0          0           0           0       0          0\n",
            "11         0        0         0         0          0           0            0          0             0         0               0         0          0           1           0       0          0\n",
            "12         0        0         0         1          0           0            0          0             0         0               0         0          0           0           0       0          0\n",
            "13         0        0         0         0          1           0            0          0             0         0               0         0          0           0           0       0          0\n",
            "14         0        0         0         0          0           1            0          0             0         0               0         0          0           0           0       0          0\n",
            "15         0        0         0         0          0           0            0          0             0         0               0         1          0           0           0       0          0\n",
            "16         0        1         0         0          0           0            0          0             0         0               0         0          0           0           0       0          0\n",
            "17         0        0         0         0          0           0            0          1             0         0               0         0          0           0           0       0          0\n",
            "18         0        0         0         0          0           0            0          0             0         0               0         0          1           0           0       0          0\n",
            "19         0        0         0         1          0           0            0          0             0         0               0         0          0           0           0       0          0\n",
            "20         0        0         0         1          0           0            0          0             0         0               0         0          0           0           0       0          0\n",
            "21         0        0         0         0          0           0            0          0             0         0               0         1          0           0           0       0          0\n",
            "22         0        0         0         0          0           0            0          0             1         0               0         0          0           0           0       0          0\n",
            "23         0        0         0         0          0           0            0          0             0         0               0         0          1           0           0       0          0\n",
            "24         0        0         0         0          0           0            0          0             0         0               0         0          0           0           0       0          1\n",
            "25         0        0         0         0          0           0            0          0             1         0               0         0          0           0           0       0          0\n",
            "26         1        0         0         0          0           0            0          0             0         0               0         0          0           0           0       0          0\n",
            "27         1        0         0         0          0           0            0          0             0         0               0         0          0           0           0       0          0\n",
            "28         0        0         0         0          0           0            0          0             0         0               0         0          0           0           0       0          1\n",
            "29         0        1         0         0          0           0            0          0             0         0               0         0          0           0           0       0          0\n",
            "30         0        0         0         0          0           0            0          0             1         0               0         0          0           0           0       0          0\n",
            "31         0        0         0         0          0           0            0          0             0         0               0         0          0           0           0       0          1\n",
            "32         0        0         0         1          0           0            0          0             0         0               0         0          0           0           0       0          0\n",
            "33         0        1         0         0          0           0            0          0             0         0               0         0          0           0           0       0          0\n",
            "34         0        0         0         0          0           0            0          0             0         0               0         1          0           0           0       0          0\n",
            "35         0        0         0         0          0           0            0          0             1         0               0         0          0           0           0       0          0\n"
          ]
        }
      ]
    },
    {
      "cell_type": "code",
      "source": [
        "X = pd.concat([cars[['Volume', 'Weight']], ohe_cars], axis=1)\n",
        "y = cars['CO2']\n",
        "\n",
        "from sklearn import linear_model\n",
        "\n",
        "regr = linear_model.LinearRegression()\n",
        "regr.fit(X,y)\n",
        "\n",
        "##predict the CO2 emission of a Volvo where the weight is 2300kg, and the volume is 1300cm3:\n",
        "predictedCO2 = regr.predict([[2300, 1300,0,0,0,0,0,0,0,0,0,0,0,0,0,0,0,1,0]])\n",
        "\n",
        "print(predictedCO2)"
      ],
      "metadata": {
        "colab": {
          "base_uri": "https://localhost:8080/"
        },
        "id": "wLol0O7WPqEZ",
        "outputId": "9dd86811-c275-44d1-e332-5a57a8570c96"
      },
      "execution_count": 5,
      "outputs": [
        {
          "output_type": "stream",
          "name": "stdout",
          "text": [
            "[122.45153299]\n"
          ]
        },
        {
          "output_type": "stream",
          "name": "stderr",
          "text": [
            "/usr/local/lib/python3.10/dist-packages/sklearn/base.py:439: UserWarning: X does not have valid feature names, but LinearRegression was fitted with feature names\n",
            "  warnings.warn(\n"
          ]
        }
      ]
    },
    {
      "cell_type": "markdown",
      "source": [
        "**Dummifying**\n",
        "\n",
        "It is not necessary to create one column for each group in your category. The information can be retained using 1 column less than the number of groups you have.\n",
        "\n",
        "For example, you have a column representing colors and in that column, you have two colors, red and blue."
      ],
      "metadata": {
        "id": "EdAWV3sqgNpE"
      }
    },
    {
      "cell_type": "code",
      "source": [
        "import pandas as pd\n",
        "\n",
        "colors = pd.DataFrame({'color': ['blue', 'red']})\n",
        "\n",
        "print(colors)"
      ],
      "metadata": {
        "colab": {
          "base_uri": "https://localhost:8080/"
        },
        "id": "DVgGnZ53gXRH",
        "outputId": "63701657-e6da-4201-ae8f-0eeb3e2be6c6"
      },
      "execution_count": 6,
      "outputs": [
        {
          "output_type": "stream",
          "name": "stdout",
          "text": [
            "  color\n",
            "0  blue\n",
            "1   red\n"
          ]
        }
      ]
    },
    {
      "cell_type": "markdown",
      "source": [
        "You can create 1 column called red where 1 represents red and 0 represents not red, which means it is blue.\n",
        "\n",
        "To do this, we can use the same function that we used for one hot encoding, get_dummies, and then drop one of the columns. There is an argument, drop_first, which allows us to exclude the first column from the resulting table."
      ],
      "metadata": {
        "id": "GsgzkJJegwU-"
      }
    },
    {
      "cell_type": "code",
      "source": [
        "import pandas as pd\n",
        "\n",
        "colors = pd.DataFrame({'color': ['blue', 'red']})\n",
        "dummies = pd.get_dummies(colors, drop_first=True)\n",
        "\n",
        "print(dummies)"
      ],
      "metadata": {
        "colab": {
          "base_uri": "https://localhost:8080/"
        },
        "id": "yb7Gqycwhb1Y",
        "outputId": "44469a1b-fb54-40f8-cf0a-99789b36b39b"
      },
      "execution_count": 7,
      "outputs": [
        {
          "output_type": "stream",
          "name": "stdout",
          "text": [
            "   color_red\n",
            "0          0\n",
            "1          1\n"
          ]
        }
      ]
    },
    {
      "cell_type": "markdown",
      "source": [
        "Let's say we have three colors this time, red, blue and green. When we get_dummies while dropping the first column, we get the following table."
      ],
      "metadata": {
        "id": "5EQonXPqjBsv"
      }
    },
    {
      "cell_type": "code",
      "source": [
        "import pandas as pd\n",
        "\n",
        "colors = pd.DataFrame({'color': ['blue', 'red', 'green']})\n",
        "dummies = pd.get_dummies(colors, drop_first=True)\n",
        "dummies['color'] = colors['color']\n",
        "\n",
        "print(dummies)"
      ],
      "metadata": {
        "colab": {
          "base_uri": "https://localhost:8080/"
        },
        "id": "ZtOkcztCjLRJ",
        "outputId": "2c084cac-08a0-44eb-9613-2098911f3480"
      },
      "execution_count": 8,
      "outputs": [
        {
          "output_type": "stream",
          "name": "stdout",
          "text": [
            "   color_green  color_red  color\n",
            "0            0          0   blue\n",
            "1            0          1    red\n",
            "2            1          0  green\n"
          ]
        }
      ]
    },
    {
      "cell_type": "markdown",
      "source": [
        "If we do not drop the first column, we shall get the following output."
      ],
      "metadata": {
        "id": "7KP_iEf9kQVq"
      }
    },
    {
      "cell_type": "code",
      "source": [
        "import pandas as pd\n",
        "\n",
        "colors = pd.DataFrame({'color': ['blue', 'red', 'green']})\n",
        "dummies = pd.get_dummies(colors)\n",
        "dummies['color'] = colors['color']\n",
        "\n",
        "print(dummies)"
      ],
      "metadata": {
        "colab": {
          "base_uri": "https://localhost:8080/"
        },
        "id": "ndVE_tBMkKMw",
        "outputId": "9fb5c0af-69a1-47fd-fb46-9b0ebe038874"
      },
      "execution_count": 9,
      "outputs": [
        {
          "output_type": "stream",
          "name": "stdout",
          "text": [
            "   color_blue  color_green  color_red  color\n",
            "0           1            0          0   blue\n",
            "1           0            0          1    red\n",
            "2           0            1          0  green\n"
          ]
        }
      ]
    }
  ]
}